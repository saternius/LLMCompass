{
 "cells": [
  {
   "cell_type": "code",
   "execution_count": 1,
   "id": "1e6ab89d",
   "metadata": {},
   "outputs": [],
   "source": [
    "import tensorflow as tf\n",
    "import tensorflow_hub as hub\n",
    "import matplotlib.pyplot as plt\n",
    "import numpy as np\n",
    "import os\n",
    "import pandas as pd\n",
    "import re\n",
    "import seaborn as sns\n",
    "import math\n",
    "from random import shuffle\n",
    "import matplotlib.pyplot as plt\n",
    "from sentence_transformers import SentenceTransformer\n",
    "\n",
    "t5base = SentenceTransformer('sentence-transformers/sentence-t5-base')\n",
    "t5large = SentenceTransformer('sentence-transformers/sentence-t5-large')\n",
    "t5xl = SentenceTransformer('sentence-transformers/sentence-t5-xl')\n",
    "t5xxl = SentenceTransformer('sentence-transformers/sentence-t5-xxl')"
   ]
  },
  {
   "cell_type": "code",
   "execution_count": 2,
   "id": "f5da2e4e",
   "metadata": {},
   "outputs": [],
   "source": [
    "def encode_t5base(sent): return t5base.encode([sent])[0]\n",
    "def encode_t5large(sent): return t5large.encode([sent])[0]\n",
    "def encode_t5xl(sent): return t5xl.encode([sent])[0]\n",
    "def encode_t5xxl(sent): return t5xxl.encode([sent])[0]\n",
    "\n",
    "def cosine_similarity(x, y): \n",
    "    if len(x) != len(y): return None\n",
    "    dot_product = np.dot(x, y)\n",
    "    magnitude_x = np.sqrt(np.sum(x**2)) \n",
    "    magnitude_y = np.sqrt(np.sum(y**2))\n",
    "    return dot_product / (magnitude_x * magnitude_y)\n",
    "\n",
    "social = [\"totalitarian\", \"authoritarian\", \"statist\", \"liberal\", \"libertarian\", \"anarchist\"]\n",
    "economic = [\"communist\", \"socialist\", \"progressive\", \"regulated capitalist\", \"capitalist\", \"laissez-faire\"]\n",
    "compare_to = \"A free economy is effective with strong guidance\"\n",
    "req_idx = 0\n",
    "\n",
    "belief_feats = {\n",
    "    'base': [],\n",
    "    'large': [],\n",
    "    'xl': [],\n",
    "    'xxl': []\n",
    "}\n",
    "\n",
    "for a in social:\n",
    "    base_arr, large_arr, xl_arr, xxl_arr = [], [], [], []\n",
    "    for h in economic:\n",
    "        belief = \"The best economy is {0} and the best government is {1}\".format(h,a)\n",
    "        base_arr.append(encode_t5base(belief))\n",
    "        large_arr.append(encode_t5large(belief))\n",
    "        xl_arr.append(encode_t5xl(belief))\n",
    "        xxl_arr.append(encode_t5xxl(belief))\n",
    "\n",
    "    belief_feats['base'].append(base_arr)\n",
    "    belief_feats['large'].append(large_arr)\n",
    "    belief_feats['xl'].append(xl_arr)\n",
    "    belief_feats['xxl'].append(xxl_arr)    "
   ]
  },
  {
   "cell_type": "code",
   "execution_count": 6,
   "id": "9557649b",
   "metadata": {},
   "outputs": [
    {
     "data": {
      "text/plain": [
       "<Figure size 640x480 with 0 Axes>"
      ]
     },
     "metadata": {},
     "output_type": "display_data"
    }
   ],
   "source": [
    "def hot_take_plot(statement, idx):\n",
    "    def plot(model, embed_fn):\n",
    "        feats = embed_fn(statement)\n",
    "        max_sim = -2\n",
    "        min_sim = 2\n",
    "        arrs = []\n",
    "        for x in belief_feats[model]:\n",
    "            arr = []\n",
    "            for y in x:\n",
    "                score = cosine_similarity(feats, y)\n",
    "                max_sim = max(max_sim, score)\n",
    "                min_sim = min(min_sim, score)\n",
    "                arr.append(score)\n",
    "            arrs.append(arr)\n",
    "        \n",
    "        sns.set(font_scale=1.2)\n",
    "        g = sns.heatmap(\n",
    "            arrs,\n",
    "            xticklabels=economic,\n",
    "            yticklabels=social,\n",
    "            vmin=min_sim,\n",
    "            vmax=max_sim,\n",
    "            cmap=\"YlOrRd\")\n",
    "        g.set_title(\"T5-{0}: \\\"{1}\\\"\".format(model, statement))\n",
    "        plt.savefig(\"./exports/t5-{0}-{1}.png\".format(model, idx), bbox_inches = 'tight')\n",
    "        plt.clf()\n",
    "    \n",
    "    plot('base', encode_t5base)\n",
    "    plot('large', encode_t5large)\n",
    "    plot('xl', encode_t5xl)\n",
    "    plot('xxl', encode_t5xxl)\n",
    "\n",
    "\n",
    "req_idx += 1\n",
    "hot_take_plot(\"People cannot be trusted to think freely\", 0)"
   ]
  }
 ],
 "metadata": {
  "kernelspec": {
   "display_name": "Python 3 (ipykernel)",
   "language": "python",
   "name": "python3"
  },
  "language_info": {
   "codemirror_mode": {
    "name": "ipython",
    "version": 3
   },
   "file_extension": ".py",
   "mimetype": "text/x-python",
   "name": "python",
   "nbconvert_exporter": "python",
   "pygments_lexer": "ipython3",
   "version": "3.10.11"
  }
 },
 "nbformat": 4,
 "nbformat_minor": 5
}
